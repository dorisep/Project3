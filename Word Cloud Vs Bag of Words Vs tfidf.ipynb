{
 "cells": [
  {
   "cell_type": "code",
   "execution_count": 83,
   "metadata": {},
   "outputs": [],
   "source": [
    "import nltk\n",
    "from sklearn.pipeline import Pipeline\n",
    "from sklearn.model_selection import train_test_split\n",
    "from sklearn.metrics import classification_report, confusion_matrix, accuracy_score\n",
    "from sklearn.naive_bayes import MultinomialNB\n",
    "from sklearn.model_selection import KFold, cross_val_score\n",
    "from sklearn.ensemble import RandomForestClassifier\n",
    "from sklearn.feature_extraction.text import CountVectorizer\n",
    "from sklearn.feature_extraction.text import TfidfTransformer\n",
    "from sklearn.model_selection import GridSearchCV\n",
    "from sklearn.externals import joblib\n",
    "from nltk.corpus import stopwords\n",
    "from nltk.tokenize import TweetTokenizer\n",
    "import pandas as pd\n",
    "import matplotlib.pyplot as plt\n",
    "import re\n",
    "#from nltk.stem.wordnet import WordNetLemmatizerLoad training dataset to Pandas and preview the top rows."
   ]
  },
  {
   "cell_type": "code",
   "execution_count": 84,
   "metadata": {},
   "outputs": [
    {
     "data": {
      "text/html": [
       "<div>\n",
       "<style scoped>\n",
       "    .dataframe tbody tr th:only-of-type {\n",
       "        vertical-align: middle;\n",
       "    }\n",
       "\n",
       "    .dataframe tbody tr th {\n",
       "        vertical-align: top;\n",
       "    }\n",
       "\n",
       "    .dataframe thead th {\n",
       "        text-align: right;\n",
       "    }\n",
       "</style>\n",
       "<table border=\"1\" class=\"dataframe\">\n",
       "  <thead>\n",
       "    <tr style=\"text-align: right;\">\n",
       "      <th></th>\n",
       "      <th>created_at</th>\n",
       "      <th>favorite_count</th>\n",
       "      <th>id_str</th>\n",
       "      <th>in_reply_to_user_id_str</th>\n",
       "      <th>is_retweet</th>\n",
       "      <th>retweet_count</th>\n",
       "      <th>source</th>\n",
       "      <th>text</th>\n",
       "    </tr>\n",
       "  </thead>\n",
       "  <tbody>\n",
       "    <tr>\n",
       "      <th>0</th>\n",
       "      <td>2018-12-31 23:53:06</td>\n",
       "      <td>136012</td>\n",
       "      <td>1079888205351145472</td>\n",
       "      <td>NaN</td>\n",
       "      <td>False</td>\n",
       "      <td>33548</td>\n",
       "      <td>Twitter for iPhone</td>\n",
       "      <td>HAPPY NEW YEAR! https://t.co/bHoPDPQ7G6</td>\n",
       "    </tr>\n",
       "    <tr>\n",
       "      <th>1</th>\n",
       "      <td>2018-12-31 20:02:52</td>\n",
       "      <td>65069</td>\n",
       "      <td>1079830268708556800</td>\n",
       "      <td>25073877.0</td>\n",
       "      <td>False</td>\n",
       "      <td>17456</td>\n",
       "      <td>Twitter for iPhone</td>\n",
       "      <td>....Senator Schumer, more than a year longer t...</td>\n",
       "    </tr>\n",
       "    <tr>\n",
       "      <th>2</th>\n",
       "      <td>2018-12-31 20:02:52</td>\n",
       "      <td>76721</td>\n",
       "      <td>1079830267274108928</td>\n",
       "      <td>NaN</td>\n",
       "      <td>False</td>\n",
       "      <td>21030</td>\n",
       "      <td>Twitter for iPhone</td>\n",
       "      <td>Heads of countries are calling wanting to know...</td>\n",
       "    </tr>\n",
       "    <tr>\n",
       "      <th>3</th>\n",
       "      <td>2018-12-31 15:39:15</td>\n",
       "      <td>127485</td>\n",
       "      <td>1079763923845419008</td>\n",
       "      <td>NaN</td>\n",
       "      <td>False</td>\n",
       "      <td>29610</td>\n",
       "      <td>Twitter for iPhone</td>\n",
       "      <td>It’s incredible how Democrats can all use thei...</td>\n",
       "    </tr>\n",
       "    <tr>\n",
       "      <th>4</th>\n",
       "      <td>2018-12-31 15:37:14</td>\n",
       "      <td>132439</td>\n",
       "      <td>1079763419908243456</td>\n",
       "      <td>NaN</td>\n",
       "      <td>False</td>\n",
       "      <td>30957</td>\n",
       "      <td>Twitter for iPhone</td>\n",
       "      <td>I’m in the Oval Office. Democrats, come back f...</td>\n",
       "    </tr>\n",
       "    <tr>\n",
       "      <th>5</th>\n",
       "      <td>2018-12-31 15:33:15</td>\n",
       "      <td>4217</td>\n",
       "      <td>1079762413589807104</td>\n",
       "      <td>NaN</td>\n",
       "      <td>False</td>\n",
       "      <td>1123</td>\n",
       "      <td>Twitter for iPhone</td>\n",
       "      <td>I’m in the Oval Office. Democrats, come back f...</td>\n",
       "    </tr>\n",
       "    <tr>\n",
       "      <th>6</th>\n",
       "      <td>2018-12-31 14:38:52</td>\n",
       "      <td>112735</td>\n",
       "      <td>1079748730058870784</td>\n",
       "      <td>NaN</td>\n",
       "      <td>False</td>\n",
       "      <td>25463</td>\n",
       "      <td>Twitter for iPhone</td>\n",
       "      <td>I am the only person in America who could say ...</td>\n",
       "    </tr>\n",
       "    <tr>\n",
       "      <th>7</th>\n",
       "      <td>2018-12-31 13:29:32</td>\n",
       "      <td>91523</td>\n",
       "      <td>1079731279032172544</td>\n",
       "      <td>NaN</td>\n",
       "      <td>False</td>\n",
       "      <td>22079</td>\n",
       "      <td>Twitter for iPhone</td>\n",
       "      <td>I campaigned on Border Security, which you can...</td>\n",
       "    </tr>\n",
       "    <tr>\n",
       "      <th>8</th>\n",
       "      <td>2018-12-31 13:19:13</td>\n",
       "      <td>72758</td>\n",
       "      <td>1079728684427341824</td>\n",
       "      <td>NaN</td>\n",
       "      <td>False</td>\n",
       "      <td>15152</td>\n",
       "      <td>Twitter for iPhone</td>\n",
       "      <td>.....Except the results are FAR BETTER than I ...</td>\n",
       "    </tr>\n",
       "    <tr>\n",
       "      <th>9</th>\n",
       "      <td>2018-12-31 13:12:40</td>\n",
       "      <td>101470</td>\n",
       "      <td>1079727034673311744</td>\n",
       "      <td>NaN</td>\n",
       "      <td>False</td>\n",
       "      <td>22119</td>\n",
       "      <td>Twitter for iPhone</td>\n",
       "      <td>...I campaigned on getting out of Syria and ot...</td>\n",
       "    </tr>\n",
       "  </tbody>\n",
       "</table>\n",
       "</div>"
      ],
      "text/plain": [
       "           created_at  favorite_count               id_str  \\\n",
       "0 2018-12-31 23:53:06          136012  1079888205351145472   \n",
       "1 2018-12-31 20:02:52           65069  1079830268708556800   \n",
       "2 2018-12-31 20:02:52           76721  1079830267274108928   \n",
       "3 2018-12-31 15:39:15          127485  1079763923845419008   \n",
       "4 2018-12-31 15:37:14          132439  1079763419908243456   \n",
       "5 2018-12-31 15:33:15            4217  1079762413589807104   \n",
       "6 2018-12-31 14:38:52          112735  1079748730058870784   \n",
       "7 2018-12-31 13:29:32           91523  1079731279032172544   \n",
       "8 2018-12-31 13:19:13           72758  1079728684427341824   \n",
       "9 2018-12-31 13:12:40          101470  1079727034673311744   \n",
       "\n",
       "   in_reply_to_user_id_str  is_retweet  retweet_count              source  \\\n",
       "0                      NaN       False          33548  Twitter for iPhone   \n",
       "1               25073877.0       False          17456  Twitter for iPhone   \n",
       "2                      NaN       False          21030  Twitter for iPhone   \n",
       "3                      NaN       False          29610  Twitter for iPhone   \n",
       "4                      NaN       False          30957  Twitter for iPhone   \n",
       "5                      NaN       False           1123  Twitter for iPhone   \n",
       "6                      NaN       False          25463  Twitter for iPhone   \n",
       "7                      NaN       False          22079  Twitter for iPhone   \n",
       "8                      NaN       False          15152  Twitter for iPhone   \n",
       "9                      NaN       False          22119  Twitter for iPhone   \n",
       "\n",
       "                                                text  \n",
       "0            HAPPY NEW YEAR! https://t.co/bHoPDPQ7G6  \n",
       "1  ....Senator Schumer, more than a year longer t...  \n",
       "2  Heads of countries are calling wanting to know...  \n",
       "3  It’s incredible how Democrats can all use thei...  \n",
       "4  I’m in the Oval Office. Democrats, come back f...  \n",
       "5  I’m in the Oval Office. Democrats, come back f...  \n",
       "6  I am the only person in America who could say ...  \n",
       "7  I campaigned on Border Security, which you can...  \n",
       "8  .....Except the results are FAR BETTER than I ...  \n",
       "9  ...I campaigned on getting out of Syria and ot...  "
      ]
     },
     "execution_count": 84,
     "metadata": {},
     "output_type": "execute_result"
    }
   ],
   "source": [
    "# load train data\n",
    "data = pd.read_json('condensed_2018.json')\n",
    "#data.columns = ['id','label','source','text']\n",
    "data.head(2)\n",
    "#get text and matching label columns\n",
    "#data = data.drop(['id','source'],axis=1)\n",
    "data.head(10)"
   ]
  },
  {
   "cell_type": "code",
   "execution_count": 85,
   "metadata": {},
   "outputs": [
    {
     "data": {
      "text/html": [
       "<div>\n",
       "<style scoped>\n",
       "    .dataframe tbody tr th:only-of-type {\n",
       "        vertical-align: middle;\n",
       "    }\n",
       "\n",
       "    .dataframe tbody tr th {\n",
       "        vertical-align: top;\n",
       "    }\n",
       "\n",
       "    .dataframe thead th {\n",
       "        text-align: right;\n",
       "    }\n",
       "</style>\n",
       "<table border=\"1\" class=\"dataframe\">\n",
       "  <thead>\n",
       "    <tr style=\"text-align: right;\">\n",
       "      <th></th>\n",
       "      <th>created_at</th>\n",
       "      <th>favorite_count</th>\n",
       "      <th>id_str</th>\n",
       "      <th>in_reply_to_user_id_str</th>\n",
       "      <th>is_retweet</th>\n",
       "      <th>retweet_count</th>\n",
       "      <th>source</th>\n",
       "      <th>text</th>\n",
       "      <th>word count</th>\n",
       "    </tr>\n",
       "  </thead>\n",
       "  <tbody>\n",
       "    <tr>\n",
       "      <th>0</th>\n",
       "      <td>2018-12-31 23:53:06</td>\n",
       "      <td>136012</td>\n",
       "      <td>1079888205351145472</td>\n",
       "      <td>NaN</td>\n",
       "      <td>False</td>\n",
       "      <td>33548</td>\n",
       "      <td>Twitter for iPhone</td>\n",
       "      <td>HAPPY NEW YEAR! https://t.co/bHoPDPQ7G6</td>\n",
       "      <td>4</td>\n",
       "    </tr>\n",
       "    <tr>\n",
       "      <th>1</th>\n",
       "      <td>2018-12-31 20:02:52</td>\n",
       "      <td>65069</td>\n",
       "      <td>1079830268708556800</td>\n",
       "      <td>25073877.0</td>\n",
       "      <td>False</td>\n",
       "      <td>17456</td>\n",
       "      <td>Twitter for iPhone</td>\n",
       "      <td>....Senator Schumer, more than a year longer t...</td>\n",
       "      <td>38</td>\n",
       "    </tr>\n",
       "    <tr>\n",
       "      <th>2</th>\n",
       "      <td>2018-12-31 20:02:52</td>\n",
       "      <td>76721</td>\n",
       "      <td>1079830267274108928</td>\n",
       "      <td>NaN</td>\n",
       "      <td>False</td>\n",
       "      <td>21030</td>\n",
       "      <td>Twitter for iPhone</td>\n",
       "      <td>Heads of countries are calling wanting to know...</td>\n",
       "      <td>41</td>\n",
       "    </tr>\n",
       "    <tr>\n",
       "      <th>3</th>\n",
       "      <td>2018-12-31 15:39:15</td>\n",
       "      <td>127485</td>\n",
       "      <td>1079763923845419008</td>\n",
       "      <td>NaN</td>\n",
       "      <td>False</td>\n",
       "      <td>29610</td>\n",
       "      <td>Twitter for iPhone</td>\n",
       "      <td>It’s incredible how Democrats can all use thei...</td>\n",
       "      <td>53</td>\n",
       "    </tr>\n",
       "    <tr>\n",
       "      <th>4</th>\n",
       "      <td>2018-12-31 15:37:14</td>\n",
       "      <td>132439</td>\n",
       "      <td>1079763419908243456</td>\n",
       "      <td>NaN</td>\n",
       "      <td>False</td>\n",
       "      <td>30957</td>\n",
       "      <td>Twitter for iPhone</td>\n",
       "      <td>I’m in the Oval Office. Democrats, come back f...</td>\n",
       "      <td>44</td>\n",
       "    </tr>\n",
       "  </tbody>\n",
       "</table>\n",
       "</div>"
      ],
      "text/plain": [
       "           created_at  favorite_count               id_str  \\\n",
       "0 2018-12-31 23:53:06          136012  1079888205351145472   \n",
       "1 2018-12-31 20:02:52           65069  1079830268708556800   \n",
       "2 2018-12-31 20:02:52           76721  1079830267274108928   \n",
       "3 2018-12-31 15:39:15          127485  1079763923845419008   \n",
       "4 2018-12-31 15:37:14          132439  1079763419908243456   \n",
       "\n",
       "   in_reply_to_user_id_str  is_retweet  retweet_count              source  \\\n",
       "0                      NaN       False          33548  Twitter for iPhone   \n",
       "1               25073877.0       False          17456  Twitter for iPhone   \n",
       "2                      NaN       False          21030  Twitter for iPhone   \n",
       "3                      NaN       False          29610  Twitter for iPhone   \n",
       "4                      NaN       False          30957  Twitter for iPhone   \n",
       "\n",
       "                                                text  word count  \n",
       "0            HAPPY NEW YEAR! https://t.co/bHoPDPQ7G6           4  \n",
       "1  ....Senator Schumer, more than a year longer t...          38  \n",
       "2  Heads of countries are calling wanting to know...          41  \n",
       "3  It’s incredible how Democrats can all use thei...          53  \n",
       "4  I’m in the Oval Office. Democrats, come back f...          44  "
      ]
     },
     "execution_count": 85,
     "metadata": {},
     "output_type": "execute_result"
    }
   ],
   "source": [
    "# get a word count per sentence column\n",
    "def word_count(sentence):\n",
    "    return len(sentence.split())\n",
    "    \n",
    "data['word count'] = data['text'].apply(word_count)\n",
    "data.head(5)"
   ]
  },
  {
   "cell_type": "code",
   "execution_count": 86,
   "metadata": {},
   "outputs": [],
   "source": [
    "# get most common words in training dataset\n",
    "all_words = []\n",
    "for line in list(data['text']):\n",
    "    words = line.split()\n",
    "    for word in words:\n",
    "        all_words.append(word.lower())\n",
    "    \n",
    "    \n",
    "#Counter(all_words).most_common(10)"
   ]
  },
  {
   "cell_type": "code",
   "execution_count": 87,
   "metadata": {},
   "outputs": [
    {
     "data": {
      "image/png": "[encoded data removed]",
      "text/plain": [
       "<Figure size 864x360 with 1 Axes>"
      ]
     },
     "metadata": {
      "needs_background": "light"
     },
     "output_type": "display_data"
    },
    {
     "data": {
      "text/plain": [
       "Text(0.5, 1.0, 'log-log plot of words frequency')"
      ]
     },
     "execution_count": 87,
     "metadata": {},
     "output_type": "execute_result"
    },
    {
     "data": {
      "image/png": "[encoded data removed]",
      "text/plain": [
       "<Figure size 864x360 with 1 Axes>"
      ]
     },
     "metadata": {
      "needs_background": "light"
     },
     "output_type": "display_data"
    }
   ],
   "source": [
    "# plot word frequency distribution of first few words\n",
    "plt.figure(figsize=(12,5))\n",
    "plt.title('Top 25 most common words')\n",
    "plt.xticks(fontsize=13, rotation=90)\n",
    "fd = nltk.FreqDist(all_words)\n",
    "fd.plot(25,cumulative=False)\n",
    "# log-log plot\n",
    "#word_counts = sorted(Counter(all_words).values(), reverse=True)\n",
    "plt.figure(figsize=(12,5))\n",
    "#plt.loglog(word_counts, linestyle='-', linewidth=1.5)\n",
    "plt.ylabel(\"Freq\")\n",
    "plt.xlabel(\"Word Rank\")\n",
    "plt.title('log-log plot of words frequency')"
   ]
  },
  {
   "cell_type": "code",
   "execution_count": 88,
   "metadata": {},
   "outputs": [
    {
     "data": {
      "text/html": [
       "<div>\n",
       "<style scoped>\n",
       "    .dataframe tbody tr th:only-of-type {\n",
       "        vertical-align: middle;\n",
       "    }\n",
       "\n",
       "    .dataframe tbody tr th {\n",
       "        vertical-align: top;\n",
       "    }\n",
       "\n",
       "    .dataframe thead th {\n",
       "        text-align: right;\n",
       "    }\n",
       "</style>\n",
       "<table border=\"1\" class=\"dataframe\">\n",
       "  <thead>\n",
       "    <tr style=\"text-align: right;\">\n",
       "      <th></th>\n",
       "      <th>created_at</th>\n",
       "      <th>favorite_count</th>\n",
       "      <th>id_str</th>\n",
       "      <th>in_reply_to_user_id_str</th>\n",
       "      <th>is_retweet</th>\n",
       "      <th>retweet_count</th>\n",
       "      <th>source</th>\n",
       "      <th>text</th>\n",
       "    </tr>\n",
       "  </thead>\n",
       "  <tbody>\n",
       "    <tr>\n",
       "      <th>0</th>\n",
       "      <td>2018-12-31 23:53:06</td>\n",
       "      <td>136012</td>\n",
       "      <td>1079888205351145472</td>\n",
       "      <td>NaN</td>\n",
       "      <td>False</td>\n",
       "      <td>33548</td>\n",
       "      <td>Twitter for iPhone</td>\n",
       "      <td>HAPPY NEW YEAR! https://t.co/bHoPDPQ7G6</td>\n",
       "    </tr>\n",
       "    <tr>\n",
       "      <th>1</th>\n",
       "      <td>2018-12-31 20:02:52</td>\n",
       "      <td>65069</td>\n",
       "      <td>1079830268708556800</td>\n",
       "      <td>25073877.0</td>\n",
       "      <td>False</td>\n",
       "      <td>17456</td>\n",
       "      <td>Twitter for iPhone</td>\n",
       "      <td>....Senator Schumer, more than a year longer t...</td>\n",
       "    </tr>\n",
       "    <tr>\n",
       "      <th>2</th>\n",
       "      <td>2018-12-31 20:02:52</td>\n",
       "      <td>76721</td>\n",
       "      <td>1079830267274108928</td>\n",
       "      <td>NaN</td>\n",
       "      <td>False</td>\n",
       "      <td>21030</td>\n",
       "      <td>Twitter for iPhone</td>\n",
       "      <td>Heads of countries are calling wanting to know...</td>\n",
       "    </tr>\n",
       "    <tr>\n",
       "      <th>3</th>\n",
       "      <td>2018-12-31 15:39:15</td>\n",
       "      <td>127485</td>\n",
       "      <td>1079763923845419008</td>\n",
       "      <td>NaN</td>\n",
       "      <td>False</td>\n",
       "      <td>29610</td>\n",
       "      <td>Twitter for iPhone</td>\n",
       "      <td>It’s incredible how Democrats can all use thei...</td>\n",
       "    </tr>\n",
       "    <tr>\n",
       "      <th>4</th>\n",
       "      <td>2018-12-31 15:37:14</td>\n",
       "      <td>132439</td>\n",
       "      <td>1079763419908243456</td>\n",
       "      <td>NaN</td>\n",
       "      <td>False</td>\n",
       "      <td>30957</td>\n",
       "      <td>Twitter for iPhone</td>\n",
       "      <td>I’m in the Oval Office. Democrats, come back f...</td>\n",
       "    </tr>\n",
       "  </tbody>\n",
       "</table>\n",
       "</div>"
      ],
      "text/plain": [
       "           created_at  favorite_count               id_str  \\\n",
       "0 2018-12-31 23:53:06          136012  1079888205351145472   \n",
       "1 2018-12-31 20:02:52           65069  1079830268708556800   \n",
       "2 2018-12-31 20:02:52           76721  1079830267274108928   \n",
       "3 2018-12-31 15:39:15          127485  1079763923845419008   \n",
       "4 2018-12-31 15:37:14          132439  1079763419908243456   \n",
       "\n",
       "   in_reply_to_user_id_str  is_retweet  retweet_count              source  \\\n",
       "0                      NaN       False          33548  Twitter for iPhone   \n",
       "1               25073877.0       False          17456  Twitter for iPhone   \n",
       "2                      NaN       False          21030  Twitter for iPhone   \n",
       "3                      NaN       False          29610  Twitter for iPhone   \n",
       "4                      NaN       False          30957  Twitter for iPhone   \n",
       "\n",
       "                                                text  \n",
       "0            HAPPY NEW YEAR! https://t.co/bHoPDPQ7G6  \n",
       "1  ....Senator Schumer, more than a year longer t...  \n",
       "2  Heads of countries are calling wanting to know...  \n",
       "3  It’s incredible how Democrats can all use thei...  \n",
       "4  I’m in the Oval Office. Democrats, come back f...  "
      ]
     },
     "execution_count": 88,
     "metadata": {},
     "output_type": "execute_result"
    }
   ],
   "source": [
    "# create column names\n",
    "col_names=['created_at','favorite_count','id_str','in_reply_to_user_id_str','is_retweet','retweet_count','source','text']\n",
    "# read json\n",
    "df_twtr = pd.read_json('condensed_2018.json')\n",
    "# check head\n",
    "df_twtr.head()"
   ]
  },
  {
   "cell_type": "code",
   "execution_count": 89,
   "metadata": {},
   "outputs": [
    {
     "ename": "AttributeError",
     "evalue": "'SList' object has no attribute 'replace'",
     "output_type": "error",
     "traceback": [
      "\u001b[1;31m---------------------------------------------------------------------------\u001b[0m",
      "\u001b[1;31mAttributeError\u001b[0m                            Traceback (most recent call last)",
      "\u001b[1;32m<ipython-input-89-b4366b18a070>\u001b[0m in \u001b[0;36m<module>\u001b[1;34m\u001b[0m\n\u001b[0;32m     29\u001b[0m \u001b[1;31m# ______________________________________________________________\u001b[0m\u001b[1;33m\u001b[0m\u001b[1;33m\u001b[0m\u001b[1;33m\u001b[0m\u001b[0m\n\u001b[0;32m     30\u001b[0m \u001b[1;31m# clean dataframe's text column\u001b[0m\u001b[1;33m\u001b[0m\u001b[1;33m\u001b[0m\u001b[1;33m\u001b[0m\u001b[0m\n\u001b[1;32m---> 31\u001b[1;33m \u001b[0mdf_twtr\u001b[0m\u001b[1;33m[\u001b[0m\u001b[1;34m'text'\u001b[0m\u001b[1;33m]\u001b[0m \u001b[1;33m=\u001b[0m \u001b[0mdf_twtr\u001b[0m\u001b[1;33m[\u001b[0m\u001b[1;34m'text'\u001b[0m\u001b[1;33m]\u001b[0m\u001b[1;33m.\u001b[0m\u001b[0mapply\u001b[0m\u001b[1;33m(\u001b[0m\u001b[0mprocessTweet\u001b[0m\u001b[1;33m)\u001b[0m\u001b[1;33m\u001b[0m\u001b[1;33m\u001b[0m\u001b[0m\n\u001b[0m\u001b[0;32m     32\u001b[0m \u001b[1;31m# preview some cleaned tweets\u001b[0m\u001b[1;33m\u001b[0m\u001b[1;33m\u001b[0m\u001b[1;33m\u001b[0m\u001b[0m\n\u001b[0;32m     33\u001b[0m \u001b[0mdf_twtr\u001b[0m\u001b[1;33m[\u001b[0m\u001b[1;34m'text'\u001b[0m\u001b[1;33m]\u001b[0m\u001b[1;33m.\u001b[0m\u001b[0mhead\u001b[0m\u001b[1;33m(\u001b[0m\u001b[1;33m)\u001b[0m\u001b[1;33m\u001b[0m\u001b[1;33m\u001b[0m\u001b[0m\n",
      "\u001b[1;32m~\\OneDrive\\Documents\\PREWORK_HLS\\Anaconda\\lib\\site-packages\\pandas\\core\\series.py\u001b[0m in \u001b[0;36mapply\u001b[1;34m(self, func, convert_dtype, args, **kwds)\u001b[0m\n\u001b[0;32m   3589\u001b[0m             \u001b[1;32melse\u001b[0m\u001b[1;33m:\u001b[0m\u001b[1;33m\u001b[0m\u001b[1;33m\u001b[0m\u001b[0m\n\u001b[0;32m   3590\u001b[0m                 \u001b[0mvalues\u001b[0m \u001b[1;33m=\u001b[0m \u001b[0mself\u001b[0m\u001b[1;33m.\u001b[0m\u001b[0mastype\u001b[0m\u001b[1;33m(\u001b[0m\u001b[0mobject\u001b[0m\u001b[1;33m)\u001b[0m\u001b[1;33m.\u001b[0m\u001b[0mvalues\u001b[0m\u001b[1;33m\u001b[0m\u001b[1;33m\u001b[0m\u001b[0m\n\u001b[1;32m-> 3591\u001b[1;33m                 \u001b[0mmapped\u001b[0m \u001b[1;33m=\u001b[0m \u001b[0mlib\u001b[0m\u001b[1;33m.\u001b[0m\u001b[0mmap_infer\u001b[0m\u001b[1;33m(\u001b[0m\u001b[0mvalues\u001b[0m\u001b[1;33m,\u001b[0m \u001b[0mf\u001b[0m\u001b[1;33m,\u001b[0m \u001b[0mconvert\u001b[0m\u001b[1;33m=\u001b[0m\u001b[0mconvert_dtype\u001b[0m\u001b[1;33m)\u001b[0m\u001b[1;33m\u001b[0m\u001b[1;33m\u001b[0m\u001b[0m\n\u001b[0m\u001b[0;32m   3592\u001b[0m \u001b[1;33m\u001b[0m\u001b[0m\n\u001b[0;32m   3593\u001b[0m         \u001b[1;32mif\u001b[0m \u001b[0mlen\u001b[0m\u001b[1;33m(\u001b[0m\u001b[0mmapped\u001b[0m\u001b[1;33m)\u001b[0m \u001b[1;32mand\u001b[0m \u001b[0misinstance\u001b[0m\u001b[1;33m(\u001b[0m\u001b[0mmapped\u001b[0m\u001b[1;33m[\u001b[0m\u001b[1;36m0\u001b[0m\u001b[1;33m]\u001b[0m\u001b[1;33m,\u001b[0m \u001b[0mSeries\u001b[0m\u001b[1;33m)\u001b[0m\u001b[1;33m:\u001b[0m\u001b[1;33m\u001b[0m\u001b[1;33m\u001b[0m\u001b[0m\n",
      "\u001b[1;32mpandas/_libs/lib.pyx\u001b[0m in \u001b[0;36mpandas._libs.lib.map_infer\u001b[1;34m()\u001b[0m\n",
      "\u001b[1;32m<ipython-input-89-b4366b18a070>\u001b[0m in \u001b[0;36mprocessTweet\u001b[1;34m(tweet)\u001b[0m\n\u001b[0;32m     17\u001b[0m     \u001b[0mtweet\u001b[0m \u001b[1;33m=\u001b[0m \u001b[0mre\u001b[0m\u001b[1;33m.\u001b[0m\u001b[0msub\u001b[0m\u001b[1;33m(\u001b[0m\u001b[1;34mr'#\\w*'\u001b[0m\u001b[1;33m,\u001b[0m \u001b[1;34m''\u001b[0m\u001b[1;33m,\u001b[0m \u001b[0mtweet\u001b[0m\u001b[1;33m)\u001b[0m\u001b[1;33m\u001b[0m\u001b[1;33m\u001b[0m\u001b[0m\n\u001b[0;32m     18\u001b[0m     \u001b[1;31m# Remove Punctuation and split 's, 't, 've with a space for filter\u001b[0m\u001b[1;33m\u001b[0m\u001b[1;33m\u001b[0m\u001b[1;33m\u001b[0m\u001b[0m\n\u001b[1;32m---> 19\u001b[1;33m     \u001b[0mtweet\u001b[0m \u001b[1;33m=\u001b[0m \u001b[0mre\u001b[0m\u001b[1;33m.\u001b[0m\u001b[0msub\u001b[0m\u001b[1;33m(\u001b[0m\u001b[1;34mr'['\u001b[0m \u001b[1;33m+\u001b[0m \u001b[0mpunctuation\u001b[0m\u001b[1;33m.\u001b[0m\u001b[0mreplace\u001b[0m\u001b[1;33m(\u001b[0m\u001b[1;34m'@'\u001b[0m\u001b[1;33m,\u001b[0m \u001b[1;34m''\u001b[0m\u001b[1;33m)\u001b[0m \u001b[1;33m+\u001b[0m \u001b[1;34m']+'\u001b[0m\u001b[1;33m,\u001b[0m \u001b[1;34m' '\u001b[0m\u001b[1;33m,\u001b[0m \u001b[0mtweet\u001b[0m\u001b[1;33m)\u001b[0m\u001b[1;33m\u001b[0m\u001b[1;33m\u001b[0m\u001b[0m\n\u001b[0m\u001b[0;32m     20\u001b[0m     \u001b[1;31m# Remove words with 2 or fewer letters\u001b[0m\u001b[1;33m\u001b[0m\u001b[1;33m\u001b[0m\u001b[1;33m\u001b[0m\u001b[0m\n\u001b[0;32m     21\u001b[0m     \u001b[0mtweet\u001b[0m \u001b[1;33m=\u001b[0m \u001b[0mre\u001b[0m\u001b[1;33m.\u001b[0m\u001b[0msub\u001b[0m\u001b[1;33m(\u001b[0m\u001b[1;34mr'\\b\\w{1,2}\\b'\u001b[0m\u001b[1;33m,\u001b[0m \u001b[1;34m''\u001b[0m\u001b[1;33m,\u001b[0m \u001b[0mtweet\u001b[0m\u001b[1;33m)\u001b[0m\u001b[1;33m\u001b[0m\u001b[1;33m\u001b[0m\u001b[0m\n",
      "\u001b[1;31mAttributeError\u001b[0m: 'SList' object has no attribute 'replace'"
     ]
    }
   ],
   "source": [
    "# define punctuation\n",
    "punctuation = !\"#$%&'()*+, -./:;<=>?@[\\]^_`{|}~\n",
    "\n",
    "# helper function to clean tweets\n",
    "def processTweet(tweet):\n",
    "    # Remove HTML special entities (e.g. &amp;)\n",
    "    tweet = re.sub(r'\\&\\w*;', '', tweet)\n",
    "    #Convert @username to AT_USER\n",
    "    tweet = re.sub('@[^\\s]+','',tweet)\n",
    "    # Remove tickers\n",
    "    tweet = re.sub(r'\\$\\w*', '', tweet)\n",
    "    # To lowercase\n",
    "    tweet = tweet.lower()\n",
    "    # Remove hyperlinks\n",
    "    tweet = re.sub(r'https?:\\/\\/.*\\/\\w*', '', tweet)\n",
    "    # Remove hashtags\n",
    "    tweet = re.sub(r'#\\w*', '', tweet)\n",
    "    # Remove Punctuation and split 's, 't, 've with a space for filter\n",
    "    tweet = re.sub(r'[' + punctuation.replace('@', '') + ']+', ' ', tweet)\n",
    "    # Remove words with 2 or fewer letters\n",
    "    tweet = re.sub(r'\\b\\w{1,2}\\b', '', tweet)\n",
    "    # Remove whitespace (including new line characters)\n",
    "    tweet = re.sub(r'\\s\\s+', ' ', tweet)\n",
    "    # Remove single space remaining at the front of the tweet.\n",
    "    tweet = tweet.lstrip(' ') \n",
    "    # Remove characters beyond Basic Multilingual Plane (BMP) of Unicode:\n",
    "    tweet = ''.join(c for c in tweet if c <= '\\uFFFF') \n",
    "    return tweet\n",
    "# ______________________________________________________________\n",
    "# clean dataframe's text column\n",
    "df_twtr['text'] = df_twtr['text'].apply(processTweet)\n",
    "# preview some cleaned tweets\n",
    "df_twtr['text'].head()"
   ]
  },
  {
   "cell_type": "code",
   "execution_count": 58,
   "metadata": {},
   "outputs": [
    {
     "data": {
      "image/png": "[encoded data removed]",
      "text/plain": [
       "<Figure size 864x360 with 1 Axes>"
      ]
     },
     "metadata": {
      "needs_background": "light"
     },
     "output_type": "display_data"
    },
    {
     "data": {
      "text/plain": [
       "Text(0.5, 0, 'Word Rank')"
      ]
     },
     "execution_count": 58,
     "metadata": {},
     "output_type": "execute_result"
    },
    {
     "data": {
      "image/png": "[encoded data removed]",
      "text/plain": [
       "<Figure size 432x288 with 1 Axes>"
      ]
     },
     "metadata": {
      "needs_background": "light"
     },
     "output_type": "display_data"
    }
   ],
   "source": [
    "# most common words in twitter dataset\n",
    "all_words = []\n",
    "for line in list(df_twtr['text']):\n",
    "    words = line.split()\n",
    "    for word in words:\n",
    "        all_words.append(word.lower())\n",
    "# plot word frequency distribution of first few words\n",
    "plt.figure(figsize=(12,5))\n",
    "plt.xticks(fontsize=13, rotation=90)\n",
    "fd = nltk.FreqDist(all_words)\n",
    "fd.plot(25,cumulative=False)\n",
    "# log-log of all words \n",
    "#word_counts = sorted(Counter(all_words).values(), reverse=True)plt.figure(figsize=(12,5))\n",
    "#plt.loglog(word_counts, linestyle='-', linewidth=1.5)\n",
    "plt.ylabel(\"Freq\")\n",
    "plt.xlabel(\"Word Rank\")"
   ]
  },
  {
   "cell_type": "code",
   "execution_count": 59,
   "metadata": {},
   "outputs": [
    {
     "data": {
      "text/html": [
       "<div>\n",
       "<style scoped>\n",
       "    .dataframe tbody tr th:only-of-type {\n",
       "        vertical-align: middle;\n",
       "    }\n",
       "\n",
       "    .dataframe tbody tr th {\n",
       "        vertical-align: top;\n",
       "    }\n",
       "\n",
       "    .dataframe thead th {\n",
       "        text-align: right;\n",
       "    }\n",
       "</style>\n",
       "<table border=\"1\" class=\"dataframe\">\n",
       "  <thead>\n",
       "    <tr style=\"text-align: right;\">\n",
       "      <th></th>\n",
       "      <th>created_at</th>\n",
       "      <th>favorite_count</th>\n",
       "      <th>id_str</th>\n",
       "      <th>in_reply_to_user_id_str</th>\n",
       "      <th>is_retweet</th>\n",
       "      <th>retweet_count</th>\n",
       "      <th>source</th>\n",
       "      <th>text</th>\n",
       "      <th>tokens</th>\n",
       "      <th>no_democrats</th>\n",
       "    </tr>\n",
       "  </thead>\n",
       "  <tbody>\n",
       "    <tr>\n",
       "      <th>0</th>\n",
       "      <td>2018-12-31 23:53:06</td>\n",
       "      <td>136012</td>\n",
       "      <td>1079888205351145472</td>\n",
       "      <td>NaN</td>\n",
       "      <td>False</td>\n",
       "      <td>33548</td>\n",
       "      <td>Twitter for iPhone</td>\n",
       "      <td>happy new year!</td>\n",
       "      <td>[happy, new, year]</td>\n",
       "      <td>[happy, new, year]</td>\n",
       "    </tr>\n",
       "    <tr>\n",
       "      <th>1</th>\n",
       "      <td>2018-12-31 20:02:52</td>\n",
       "      <td>65069</td>\n",
       "      <td>1079830268708556800</td>\n",
       "      <td>25073877.0</td>\n",
       "      <td>False</td>\n",
       "      <td>17456</td>\n",
       "      <td>Twitter for iPhone</td>\n",
       "      <td>....senator schumer, more than year longer tha...</td>\n",
       "      <td>[senator, schumer, year, longer, administratio...</td>\n",
       "      <td>[senator, schumer, year, longer, administratio...</td>\n",
       "    </tr>\n",
       "    <tr>\n",
       "      <th>2</th>\n",
       "      <td>2018-12-31 20:02:52</td>\n",
       "      <td>76721</td>\n",
       "      <td>1079830267274108928</td>\n",
       "      <td>NaN</td>\n",
       "      <td>False</td>\n",
       "      <td>21030</td>\n",
       "      <td>Twitter for iPhone</td>\n",
       "      <td>heads countries are calling wanting know why s...</td>\n",
       "      <td>[heads, countries, calling, wanting, know, sen...</td>\n",
       "      <td>[heads, countries, calling, wanting, know, sen...</td>\n",
       "    </tr>\n",
       "    <tr>\n",
       "      <th>3</th>\n",
       "      <td>2018-12-31 15:39:15</td>\n",
       "      <td>127485</td>\n",
       "      <td>1079763923845419008</td>\n",
       "      <td>NaN</td>\n",
       "      <td>False</td>\n",
       "      <td>29610</td>\n",
       "      <td>Twitter for iPhone</td>\n",
       "      <td>’ incredible how democrats can all use their r...</td>\n",
       "      <td>[’, incredible, democrats, use, ridiculous, so...</td>\n",
       "      <td>[incredible, democrats, use, ridiculous, sound...</td>\n",
       "    </tr>\n",
       "    <tr>\n",
       "      <th>4</th>\n",
       "      <td>2018-12-31 15:37:14</td>\n",
       "      <td>132439</td>\n",
       "      <td>1079763419908243456</td>\n",
       "      <td>NaN</td>\n",
       "      <td>False</td>\n",
       "      <td>30957</td>\n",
       "      <td>Twitter for iPhone</td>\n",
       "      <td>’ the oval office. democrats, come back from v...</td>\n",
       "      <td>[’, oval, office, democrats, come, back, vacat...</td>\n",
       "      <td>[oval, office, democrats, come, back, vacation...</td>\n",
       "    </tr>\n",
       "  </tbody>\n",
       "</table>\n",
       "</div>"
      ],
      "text/plain": [
       "           created_at  favorite_count               id_str  \\\n",
       "0 2018-12-31 23:53:06          136012  1079888205351145472   \n",
       "1 2018-12-31 20:02:52           65069  1079830268708556800   \n",
       "2 2018-12-31 20:02:52           76721  1079830267274108928   \n",
       "3 2018-12-31 15:39:15          127485  1079763923845419008   \n",
       "4 2018-12-31 15:37:14          132439  1079763419908243456   \n",
       "\n",
       "   in_reply_to_user_id_str  is_retweet  retweet_count              source  \\\n",
       "0                      NaN       False          33548  Twitter for iPhone   \n",
       "1               25073877.0       False          17456  Twitter for iPhone   \n",
       "2                      NaN       False          21030  Twitter for iPhone   \n",
       "3                      NaN       False          29610  Twitter for iPhone   \n",
       "4                      NaN       False          30957  Twitter for iPhone   \n",
       "\n",
       "                                                text  \\\n",
       "0                                   happy new year!    \n",
       "1  ....senator schumer, more than year longer tha...   \n",
       "2  heads countries are calling wanting know why s...   \n",
       "3  ’ incredible how democrats can all use their r...   \n",
       "4  ’ the oval office. democrats, come back from v...   \n",
       "\n",
       "                                              tokens  \\\n",
       "0                                 [happy, new, year]   \n",
       "1  [senator, schumer, year, longer, administratio...   \n",
       "2  [heads, countries, calling, wanting, know, sen...   \n",
       "3  [’, incredible, democrats, use, ridiculous, so...   \n",
       "4  [’, oval, office, democrats, come, back, vacat...   \n",
       "\n",
       "                                        no_democrats  \n",
       "0                                 [happy, new, year]  \n",
       "1  [senator, schumer, year, longer, administratio...  \n",
       "2  [heads, countries, calling, wanting, know, sen...  \n",
       "3  [incredible, democrats, use, ridiculous, sound...  \n",
       "4  [oval, office, democrats, come, back, vacation...  "
      ]
     },
     "execution_count": 59,
     "metadata": {},
     "output_type": "execute_result"
    }
   ],
   "source": [
    "  import string\n",
    "# tokenize helper function\n",
    "def text_process(raw_text):\n",
    "    \"\"\"\n",
    "    Takes in a string of text, then performs the following:\n",
    "    1. Remove all punctuation\n",
    "    2. Remove all stopwords\n",
    "    3. Returns a list of the cleaned text\n",
    "    \"\"\"\n",
    "    # Check characters to see if they are in punctuation\n",
    "    nopunc = [char for char in list(raw_text) if char not in string.punctuation]\n",
    "    # Join the characters again to form the string.\n",
    "    nopunc = ''.join(nopunc)\n",
    "    \n",
    "    # Now just remove any stopwords\n",
    "    return [word for word in nopunc.lower().split() if word.lower() not in stopwords.words('english')]\n",
    "def remove_words(word_list):\n",
    "    remove = ['...','“','”','’','…']\n",
    "    return [w for w in word_list if w not in remove]\n",
    "# -------------------------------------------\n",
    "# tokenize message column and create a column for tokens\n",
    "df_twtr = df_twtr.copy() \n",
    "df_twtr['tokens'] = df_twtr['text'].apply(text_process) # tokenize style 1\n",
    "df_twtr['no_democrats'] = df_twtr['tokens'].apply(remove_words) #tokenize style 2\n",
    "df_twtr.head()\n"
   ]
  },
  {
   "cell_type": "code",
   "execution_count": 68,
   "metadata": {},
   "outputs": [
    {
     "data": {
      "image/png": "[encoded data removed]",
      "text/plain": [
       "<Figure size 1224x1008 with 1 Axes>"
      ]
     },
     "metadata": {
      "needs_background": "light"
     },
     "output_type": "display_data"
    }
   ],
   "source": [
    "from wordcloud import WordCloud\n",
    "from collections import Counter\n",
    "# read json\n",
    "df_twtr = pd.read_json('condensed_2018.json')\n",
    "# split sentences to get individual words\n",
    "all_words = []\n",
    "for line in df_twtr['text']: # try 'tokens'\n",
    "    all_words.extend(line)\n",
    "    \n",
    "# create a word frequency dictionary\n",
    "wordfreq = Counter(all_words)\n",
    "# draw a Word Cloud with word frequencies\n",
    "wordcloud = WordCloud(width=900,\n",
    "                      height=500,\n",
    "                      max_words=500,\n",
    "                      max_font_size=100,\n",
    "                      relative_scaling=0.5,\n",
    "                      colormap='Blues',\n",
    "                      normalize_plurals=True).generate_from_frequencies(wordfreq)\n",
    "plt.figure(figsize=(17,14))\n",
    "plt.imshow(wordcloud, interpolation='bilinear')\n",
    "plt.axis(\"off\")\n",
    "plt.show()"
   ]
  },
  {
   "cell_type": "code",
   "execution_count": 77,
   "metadata": {},
   "outputs": [
    {
     "name": "stdout",
     "output_type": "stream",
     "text": [
      "10076\n"
     ]
    }
   ],
   "source": [
    "# vectorize (bag-of-words)\n",
    "bow_transformer = CountVectorizer(analyzer=text_process).fit(df_twtr['text'])\n",
    "# print total number of vocab words\n",
    "print(len(bow_transformer.vocabulary_))"
   ]
  },
  {
   "cell_type": "code",
   "execution_count": 78,
   "metadata": {},
   "outputs": [
    {
     "name": "stdout",
     "output_type": "stream",
     "text": [
      "RT @realDonaldTrump: After historic victories against ISIS, it’s time to bring our great young people home! https://t.co/xoNjFzQFTp\n",
      "\n",
      "\n"
     ]
    }
   ],
   "source": [
    "# example of vectorized text\n",
    "sample_tweet = df_twtr['text'][111]\n",
    "print(sample_tweet)\n",
    "print('\\n')"
   ]
  },
  {
   "cell_type": "code",
   "execution_count": 79,
   "metadata": {},
   "outputs": [
    {
     "name": "stdout",
     "output_type": "stream",
     "text": [
      "  (0, 1210)\t1\n",
      "  (0, 3522)\t1\n",
      "  (0, 3783)\t1\n",
      "  (0, 3806)\t1\n",
      "  (0, 4705)\t1\n",
      "  (0, 5114)\t1\n",
      "  (0, 5132)\t1\n",
      "  (0, 6696)\t1\n",
      "  (0, 7252)\t1\n",
      "  (0, 7689)\t1\n",
      "  (0, 8794)\t1\n",
      "  (0, 9253)\t1\n",
      "  (0, 9647)\t1\n",
      "\n",
      "\n"
     ]
    }
   ],
   "source": [
    "# vector representation\n",
    "bow_sample = bow_transformer.transform([sample_tweet])\n",
    "print(bow_sample)\n",
    "print('\\n')"
   ]
  },
  {
   "cell_type": "code",
   "execution_count": 71,
   "metadata": {},
   "outputs": [
    {
     "name": "stdout",
     "output_type": "stream",
     "text": [
      "Shape of Sparse Matrix:  (3510, 10076)\n",
      "Amount of Non-Zero occurences:  59865\n"
     ]
    }
   ],
   "source": [
    "# transform the entire DataFrame of text\n",
    "messages_bow = bow_transformer.transform(df_twtr['text'])\n",
    "# check out the bag-of-words counts for the entire corpus as a large sparse matrix\n",
    "print('Shape of Sparse Matrix: ', messages_bow.shape)\n",
    "print('Amount of Non-Zero occurences: ', messages_bow.nnz)"
   ]
  },
  {
   "cell_type": "code",
   "execution_count": 72,
   "metadata": {},
   "outputs": [
    {
     "name": "stdout",
     "output_type": "stream",
     "text": [
      "  (0, 9647)\t0.32262264408079255\n",
      "  (0, 9253)\t0.3744214478782617\n",
      "  (0, 8794)\t0.20484034916573993\n",
      "  (0, 7689)\t0.15674683907790657\n",
      "  (0, 7252)\t0.2059805076093194\n",
      "  (0, 6696)\t0.16289869994698727\n",
      "  (0, 5132)\t0.2596232093332776\n",
      "  (0, 5114)\t0.31743080256672396\n",
      "  (0, 4705)\t0.4183751268354609\n",
      "  (0, 3806)\t0.2814737087644371\n",
      "  (0, 3783)\t0.298928246723144\n",
      "  (0, 3522)\t0.13011399924016492\n",
      "  (0, 1210)\t0.302507260273688\n"
     ]
    }
   ],
   "source": [
    "# from sklearn.feature_extraction.text import TfidfTransformer\n",
    "tfidf_transformer = TfidfTransformer().fit(messages_bow)\n",
    "tfidf_sample = tfidf_transformer.transform(bow_sample)\n",
    "print(tfidf_sample)"
   ]
  },
  {
   "cell_type": "code",
   "execution_count": 73,
   "metadata": {},
   "outputs": [
    {
     "name": "stdout",
     "output_type": "stream",
     "text": [
      "3.622392631010006\n",
      "3.5615373552887313\n"
     ]
    }
   ],
   "source": [
    "# some IDF (inverse document frequency) example\n",
    "print(tfidf_transformer.idf_[bow_transformer.vocabulary_['trump']])\n",
    "print(tfidf_transformer.idf_[bow_transformer.vocabulary_['democrats']])"
   ]
  },
  {
   "cell_type": "code",
   "execution_count": 74,
   "metadata": {},
   "outputs": [
    {
     "name": "stdout",
     "output_type": "stream",
     "text": [
      "(3510, 10076)\n"
     ]
    }
   ],
   "source": [
    "# to transform the entire bag-of-words corpus\n",
    "messages_tfidf = tfidf_transformer.transform(messages_bow)\n",
    "print(messages_tfidf.shape)"
   ]
  },
  {
   "cell_type": "code",
   "execution_count": null,
   "metadata": {},
   "outputs": [],
   "source": []
  }
 ],
 "metadata": {
  "kernelspec": {
   "display_name": "Python 3",
   "language": "python",
   "name": "python3"
  },
  "language_info": {
   "codemirror_mode": {
    "name": "ipython",
    "version": 3
   },
   "file_extension": ".py",
   "mimetype": "text/x-python",
   "name": "python",
   "nbconvert_exporter": "python",
   "pygments_lexer": "ipython3",
   "version": "3.7.3"
  }
 },
 "nbformat": 4,
 "nbformat_minor": 2
}
